{
 "cells": [
  {
   "cell_type": "markdown",
   "id": "initial_id",
   "metadata": {
    "collapsed": true
   },
   "source": "# Customer Data Cleaning - CP610 Deliverable #2\n\n**Purpose**: Clean and prepare customer data for analysis  \n**Input**: `../datasources/Customers_v4.csv`  \n**Output**: `../output_data/Customers_cleaned.csv`  \n**Strategy**: See `../CLEANING_STRATEGY.md` for detailed methodology\n\n---\n\n## Table of Contents\n1. [Load & Initial Exploration](#1)\n2. [Data Quality Assessment](#2)\n3. [Data Cleaning Operations](#3)\n4. [Data Validation](#4)\n5. [Export Cleaned Data](#5)\n6. [Quality Report](#6)"
  },
  {
   "cell_type": "markdown",
   "id": "agejtmd82ti",
   "source": "---\n## 1. Load & Initial Exploration",
   "metadata": {}
  },
  {
   "cell_type": "code",
   "id": "z0n2zyquhb9",
   "source": "# Import required libraries\nimport pandas as pd\nimport numpy as np\nimport matplotlib.pyplot as plt\nimport seaborn as sns\nimport warnings\nwarnings.filterwarnings('ignore')\n\n# Set display options\npd.set_option('display.max_columns', None)\npd.set_option('display.width', None)\n\nprint(\"Libraries imported successfully!\")\nprint(f\"Pandas version: {pd.__version__}\")\nprint(f\"NumPy version: {np.__version__}\")",
   "metadata": {
    "ExecuteTime": {
     "end_time": "2025-10-24T19:58:32.097373Z",
     "start_time": "2025-10-24T19:58:32.095226Z"
    }
   },
   "outputs": [
    {
     "name": "stdout",
     "output_type": "stream",
     "text": [
      "Libraries imported successfully!\n",
      "Pandas version: 2.3.3\n",
      "NumPy version: 2.0.2\n"
     ]
    }
   ],
   "execution_count": 1
  },
  {
   "cell_type": "code",
   "id": "9hxt1zoaa8w",
   "source": "# Load customer data\ndf = pd.read_csv('../datasources/Customers_v4.csv')\n\nprint(\"=\"*60)\nprint(\"CUSTOMER DATA LOADED\")\nprint(\"=\"*60)\nprint(f\"Dataset shape: {df.shape[0]} rows × {df.shape[1]} columns\")\nprint(f\"Memory usage: {df.memory_usage(deep=True).sum() / 1024:.2f} KB\")\nprint(\"=\"*60)",
   "metadata": {
    "ExecuteTime": {
     "end_time": "2025-10-24T19:58:35.498674Z",
     "start_time": "2025-10-24T19:58:35.492234Z"
    }
   },
   "outputs": [
    {
     "name": "stdout",
     "output_type": "stream",
     "text": [
      "============================================================\n",
      "CUSTOMER DATA LOADED\n",
      "============================================================\n",
      "Dataset shape: 1000 rows × 9 columns\n",
      "Memory usage: 454.64 KB\n",
      "============================================================\n"
     ]
    }
   ],
   "execution_count": 2
  },
  {
   "cell_type": "code",
   "id": "tr3binyqv9",
   "source": "# Display basic information\nprint(\"\\n\" + \"=\"*60)\nprint(\"DATASET INFORMATION\")\nprint(\"=\"*60)\ndf.info()\n\nprint(\"\\n\" + \"=\"*60)\nprint(\"FIRST 10 ROWS\")\nprint(\"=\"*60)\ndisplay(df.head(10))\n\nprint(\"\\n\" + \"=\"*60)\nprint(\"LAST 10 ROWS\")\nprint(\"=\"*60)\ndisplay(df.tail(10))",
   "metadata": {
    "ExecuteTime": {
     "end_time": "2025-10-24T19:58:38.578273Z",
     "start_time": "2025-10-24T19:58:38.555637Z"
    }
   },
   "outputs": [
    {
     "name": "stdout",
     "output_type": "stream",
     "text": [
      "\n",
      "============================================================\n",
      "DATASET INFORMATION\n",
      "============================================================\n",
      "<class 'pandas.core.frame.DataFrame'>\n",
      "RangeIndex: 1000 entries, 0 to 999\n",
      "Data columns (total 9 columns):\n",
      " #   Column            Non-Null Count  Dtype  \n",
      "---  ------            --------------  -----  \n",
      " 0   Customer ID       1000 non-null   object \n",
      " 1   Customer Name     1000 non-null   object \n",
      " 2   Gender            1000 non-null   object \n",
      " 3   City              1000 non-null   object \n",
      " 4   Province/State    1000 non-null   object \n",
      " 5   Region            1000 non-null   object \n",
      " 6   Membership Level  1000 non-null   object \n",
      " 7   Customer Age      1000 non-null   int64  \n",
      " 8   Tenure (Years)    1000 non-null   float64\n",
      "dtypes: float64(1), int64(1), object(7)\n",
      "memory usage: 70.4+ KB\n",
      "\n",
      "============================================================\n",
      "FIRST 10 ROWS\n",
      "============================================================\n"
     ]
    },
    {
     "data": {
      "text/plain": [
       "  Customer ID     Customer Name  Gender         City Province/State  \\\n",
       "0   CUST_0001         Jia Brown  Female    San Diego             CA   \n",
       "1   CUST_0002  Victor Rodriguez    Male      Detroit             MI   \n",
       "2   CUST_0003       Nadia Jones  Female       Dallas             TX   \n",
       "3   CUST_0004         Jack Park    Male  San Antonio             TX   \n",
       "4   CUST_0005  Scarlett Roberts  Female      Atlanta             GA   \n",
       "5   CUST_0006      Mei Anderson  Female        Miami             FL   \n",
       "6   CUST_0007   Valentina Young  Female       Dallas             TX   \n",
       "7   CUST_0008     James Ramirez    Male     Portland             OR   \n",
       "8   CUST_0009       Hamza Perez    Male     New York             NY   \n",
       "9   CUST_0010   Benjamin Taylor    Male       Austin             TX   \n",
       "\n",
       "      Region Membership Level  Customer Age  Tenure (Years)  \n",
       "0       West         Standard            44             5.1  \n",
       "1    Midwest         Platinum            60             1.6  \n",
       "2      South         Standard            50             6.6  \n",
       "3      South         Standard            40            10.0  \n",
       "4      South         Standard            39             4.5  \n",
       "5      South         Standard            58             3.5  \n",
       "6      South         Platinum            41             4.0  \n",
       "7       West         Standard            23             1.2  \n",
       "8  Northeast             Gold            32             8.8  \n",
       "9      South         Standard            64             4.1  "
      ],
      "text/html": [
       "<div>\n",
       "<style scoped>\n",
       "    .dataframe tbody tr th:only-of-type {\n",
       "        vertical-align: middle;\n",
       "    }\n",
       "\n",
       "    .dataframe tbody tr th {\n",
       "        vertical-align: top;\n",
       "    }\n",
       "\n",
       "    .dataframe thead th {\n",
       "        text-align: right;\n",
       "    }\n",
       "</style>\n",
       "<table border=\"1\" class=\"dataframe\">\n",
       "  <thead>\n",
       "    <tr style=\"text-align: right;\">\n",
       "      <th></th>\n",
       "      <th>Customer ID</th>\n",
       "      <th>Customer Name</th>\n",
       "      <th>Gender</th>\n",
       "      <th>City</th>\n",
       "      <th>Province/State</th>\n",
       "      <th>Region</th>\n",
       "      <th>Membership Level</th>\n",
       "      <th>Customer Age</th>\n",
       "      <th>Tenure (Years)</th>\n",
       "    </tr>\n",
       "  </thead>\n",
       "  <tbody>\n",
       "    <tr>\n",
       "      <th>0</th>\n",
       "      <td>CUST_0001</td>\n",
       "      <td>Jia Brown</td>\n",
       "      <td>Female</td>\n",
       "      <td>San Diego</td>\n",
       "      <td>CA</td>\n",
       "      <td>West</td>\n",
       "      <td>Standard</td>\n",
       "      <td>44</td>\n",
       "      <td>5.1</td>\n",
       "    </tr>\n",
       "    <tr>\n",
       "      <th>1</th>\n",
       "      <td>CUST_0002</td>\n",
       "      <td>Victor Rodriguez</td>\n",
       "      <td>Male</td>\n",
       "      <td>Detroit</td>\n",
       "      <td>MI</td>\n",
       "      <td>Midwest</td>\n",
       "      <td>Platinum</td>\n",
       "      <td>60</td>\n",
       "      <td>1.6</td>\n",
       "    </tr>\n",
       "    <tr>\n",
       "      <th>2</th>\n",
       "      <td>CUST_0003</td>\n",
       "      <td>Nadia Jones</td>\n",
       "      <td>Female</td>\n",
       "      <td>Dallas</td>\n",
       "      <td>TX</td>\n",
       "      <td>South</td>\n",
       "      <td>Standard</td>\n",
       "      <td>50</td>\n",
       "      <td>6.6</td>\n",
       "    </tr>\n",
       "    <tr>\n",
       "      <th>3</th>\n",
       "      <td>CUST_0004</td>\n",
       "      <td>Jack Park</td>\n",
       "      <td>Male</td>\n",
       "      <td>San Antonio</td>\n",
       "      <td>TX</td>\n",
       "      <td>South</td>\n",
       "      <td>Standard</td>\n",
       "      <td>40</td>\n",
       "      <td>10.0</td>\n",
       "    </tr>\n",
       "    <tr>\n",
       "      <th>4</th>\n",
       "      <td>CUST_0005</td>\n",
       "      <td>Scarlett Roberts</td>\n",
       "      <td>Female</td>\n",
       "      <td>Atlanta</td>\n",
       "      <td>GA</td>\n",
       "      <td>South</td>\n",
       "      <td>Standard</td>\n",
       "      <td>39</td>\n",
       "      <td>4.5</td>\n",
       "    </tr>\n",
       "    <tr>\n",
       "      <th>5</th>\n",
       "      <td>CUST_0006</td>\n",
       "      <td>Mei Anderson</td>\n",
       "      <td>Female</td>\n",
       "      <td>Miami</td>\n",
       "      <td>FL</td>\n",
       "      <td>South</td>\n",
       "      <td>Standard</td>\n",
       "      <td>58</td>\n",
       "      <td>3.5</td>\n",
       "    </tr>\n",
       "    <tr>\n",
       "      <th>6</th>\n",
       "      <td>CUST_0007</td>\n",
       "      <td>Valentina Young</td>\n",
       "      <td>Female</td>\n",
       "      <td>Dallas</td>\n",
       "      <td>TX</td>\n",
       "      <td>South</td>\n",
       "      <td>Platinum</td>\n",
       "      <td>41</td>\n",
       "      <td>4.0</td>\n",
       "    </tr>\n",
       "    <tr>\n",
       "      <th>7</th>\n",
       "      <td>CUST_0008</td>\n",
       "      <td>James Ramirez</td>\n",
       "      <td>Male</td>\n",
       "      <td>Portland</td>\n",
       "      <td>OR</td>\n",
       "      <td>West</td>\n",
       "      <td>Standard</td>\n",
       "      <td>23</td>\n",
       "      <td>1.2</td>\n",
       "    </tr>\n",
       "    <tr>\n",
       "      <th>8</th>\n",
       "      <td>CUST_0009</td>\n",
       "      <td>Hamza Perez</td>\n",
       "      <td>Male</td>\n",
       "      <td>New York</td>\n",
       "      <td>NY</td>\n",
       "      <td>Northeast</td>\n",
       "      <td>Gold</td>\n",
       "      <td>32</td>\n",
       "      <td>8.8</td>\n",
       "    </tr>\n",
       "    <tr>\n",
       "      <th>9</th>\n",
       "      <td>CUST_0010</td>\n",
       "      <td>Benjamin Taylor</td>\n",
       "      <td>Male</td>\n",
       "      <td>Austin</td>\n",
       "      <td>TX</td>\n",
       "      <td>South</td>\n",
       "      <td>Standard</td>\n",
       "      <td>64</td>\n",
       "      <td>4.1</td>\n",
       "    </tr>\n",
       "  </tbody>\n",
       "</table>\n",
       "</div>"
      ]
     },
     "metadata": {},
     "output_type": "display_data",
     "jetTransient": {
      "display_id": null
     }
    },
    {
     "name": "stdout",
     "output_type": "stream",
     "text": [
      "\n",
      "============================================================\n",
      "LAST 10 ROWS\n",
      "============================================================\n"
     ]
    },
    {
     "data": {
      "text/plain": [
       "    Customer ID     Customer Name  Gender          City Province/State  \\\n",
       "990   CUST_0991       Liam Garcia    Male     Baltimore             MD   \n",
       "991   CUST_0992     Matthew Young    Male     Las Vegas             NV   \n",
       "992   CUST_0993    Mateo Martinez    Male      Columbus             OH   \n",
       "993   CUST_0994    Naomi Williams  Female  Jacksonville             FL   \n",
       "994   CUST_0995       Camila Khan  Female       Houston             TX   \n",
       "995   CUST_0996  Elizabeth Carter  Female     San Diego             CA   \n",
       "996   CUST_0997       Andrew Khan    Male       Detroit             MI   \n",
       "997   CUST_0998     Victor Walker    Male        Boston             MA   \n",
       "998   CUST_0999      Zoe Carvalho  Female        Denver             CO   \n",
       "999   CUST_1000          Amir Roy    Male  Philadelphia             PA   \n",
       "\n",
       "        Region Membership Level  Customer Age  Tenure (Years)  \n",
       "990  Northeast             Gold            42             9.1  \n",
       "991       West             Gold            69             7.2  \n",
       "992    Midwest             Gold            47             5.8  \n",
       "993      South         Standard            62             8.0  \n",
       "994      South             Gold            66             8.6  \n",
       "995       West             Gold            45             4.6  \n",
       "996    Midwest         Standard            44             4.8  \n",
       "997  Northeast         Standard            48             3.9  \n",
       "998       West         Standard            38             9.7  \n",
       "999  Northeast         Standard            52             7.0  "
      ],
      "text/html": [
       "<div>\n",
       "<style scoped>\n",
       "    .dataframe tbody tr th:only-of-type {\n",
       "        vertical-align: middle;\n",
       "    }\n",
       "\n",
       "    .dataframe tbody tr th {\n",
       "        vertical-align: top;\n",
       "    }\n",
       "\n",
       "    .dataframe thead th {\n",
       "        text-align: right;\n",
       "    }\n",
       "</style>\n",
       "<table border=\"1\" class=\"dataframe\">\n",
       "  <thead>\n",
       "    <tr style=\"text-align: right;\">\n",
       "      <th></th>\n",
       "      <th>Customer ID</th>\n",
       "      <th>Customer Name</th>\n",
       "      <th>Gender</th>\n",
       "      <th>City</th>\n",
       "      <th>Province/State</th>\n",
       "      <th>Region</th>\n",
       "      <th>Membership Level</th>\n",
       "      <th>Customer Age</th>\n",
       "      <th>Tenure (Years)</th>\n",
       "    </tr>\n",
       "  </thead>\n",
       "  <tbody>\n",
       "    <tr>\n",
       "      <th>990</th>\n",
       "      <td>CUST_0991</td>\n",
       "      <td>Liam Garcia</td>\n",
       "      <td>Male</td>\n",
       "      <td>Baltimore</td>\n",
       "      <td>MD</td>\n",
       "      <td>Northeast</td>\n",
       "      <td>Gold</td>\n",
       "      <td>42</td>\n",
       "      <td>9.1</td>\n",
       "    </tr>\n",
       "    <tr>\n",
       "      <th>991</th>\n",
       "      <td>CUST_0992</td>\n",
       "      <td>Matthew Young</td>\n",
       "      <td>Male</td>\n",
       "      <td>Las Vegas</td>\n",
       "      <td>NV</td>\n",
       "      <td>West</td>\n",
       "      <td>Gold</td>\n",
       "      <td>69</td>\n",
       "      <td>7.2</td>\n",
       "    </tr>\n",
       "    <tr>\n",
       "      <th>992</th>\n",
       "      <td>CUST_0993</td>\n",
       "      <td>Mateo Martinez</td>\n",
       "      <td>Male</td>\n",
       "      <td>Columbus</td>\n",
       "      <td>OH</td>\n",
       "      <td>Midwest</td>\n",
       "      <td>Gold</td>\n",
       "      <td>47</td>\n",
       "      <td>5.8</td>\n",
       "    </tr>\n",
       "    <tr>\n",
       "      <th>993</th>\n",
       "      <td>CUST_0994</td>\n",
       "      <td>Naomi Williams</td>\n",
       "      <td>Female</td>\n",
       "      <td>Jacksonville</td>\n",
       "      <td>FL</td>\n",
       "      <td>South</td>\n",
       "      <td>Standard</td>\n",
       "      <td>62</td>\n",
       "      <td>8.0</td>\n",
       "    </tr>\n",
       "    <tr>\n",
       "      <th>994</th>\n",
       "      <td>CUST_0995</td>\n",
       "      <td>Camila Khan</td>\n",
       "      <td>Female</td>\n",
       "      <td>Houston</td>\n",
       "      <td>TX</td>\n",
       "      <td>South</td>\n",
       "      <td>Gold</td>\n",
       "      <td>66</td>\n",
       "      <td>8.6</td>\n",
       "    </tr>\n",
       "    <tr>\n",
       "      <th>995</th>\n",
       "      <td>CUST_0996</td>\n",
       "      <td>Elizabeth Carter</td>\n",
       "      <td>Female</td>\n",
       "      <td>San Diego</td>\n",
       "      <td>CA</td>\n",
       "      <td>West</td>\n",
       "      <td>Gold</td>\n",
       "      <td>45</td>\n",
       "      <td>4.6</td>\n",
       "    </tr>\n",
       "    <tr>\n",
       "      <th>996</th>\n",
       "      <td>CUST_0997</td>\n",
       "      <td>Andrew Khan</td>\n",
       "      <td>Male</td>\n",
       "      <td>Detroit</td>\n",
       "      <td>MI</td>\n",
       "      <td>Midwest</td>\n",
       "      <td>Standard</td>\n",
       "      <td>44</td>\n",
       "      <td>4.8</td>\n",
       "    </tr>\n",
       "    <tr>\n",
       "      <th>997</th>\n",
       "      <td>CUST_0998</td>\n",
       "      <td>Victor Walker</td>\n",
       "      <td>Male</td>\n",
       "      <td>Boston</td>\n",
       "      <td>MA</td>\n",
       "      <td>Northeast</td>\n",
       "      <td>Standard</td>\n",
       "      <td>48</td>\n",
       "      <td>3.9</td>\n",
       "    </tr>\n",
       "    <tr>\n",
       "      <th>998</th>\n",
       "      <td>CUST_0999</td>\n",
       "      <td>Zoe Carvalho</td>\n",
       "      <td>Female</td>\n",
       "      <td>Denver</td>\n",
       "      <td>CO</td>\n",
       "      <td>West</td>\n",
       "      <td>Standard</td>\n",
       "      <td>38</td>\n",
       "      <td>9.7</td>\n",
       "    </tr>\n",
       "    <tr>\n",
       "      <th>999</th>\n",
       "      <td>CUST_1000</td>\n",
       "      <td>Amir Roy</td>\n",
       "      <td>Male</td>\n",
       "      <td>Philadelphia</td>\n",
       "      <td>PA</td>\n",
       "      <td>Northeast</td>\n",
       "      <td>Standard</td>\n",
       "      <td>52</td>\n",
       "      <td>7.0</td>\n",
       "    </tr>\n",
       "  </tbody>\n",
       "</table>\n",
       "</div>"
      ]
     },
     "metadata": {},
     "output_type": "display_data",
     "jetTransient": {
      "display_id": null
     }
    }
   ],
   "execution_count": 3
  },
  {
   "cell_type": "code",
   "id": "cfo76lgc0zc",
   "source": "# Summary statistics\nprint(\"=\"*60)\nprint(\"SUMMARY STATISTICS\")\nprint(\"=\"*60)\ndisplay(df.describe(include='all'))",
   "metadata": {
    "ExecuteTime": {
     "end_time": "2025-10-24T19:58:46.975113Z",
     "start_time": "2025-10-24T19:58:46.957629Z"
    }
   },
   "outputs": [
    {
     "name": "stdout",
     "output_type": "stream",
     "text": [
      "============================================================\n",
      "SUMMARY STATISTICS\n",
      "============================================================\n"
     ]
    },
    {
     "data": {
      "text/plain": [
       "       Customer ID Customer Name  Gender      City Province/State Region  \\\n",
       "count         1000          1000    1000      1000           1000   1000   \n",
       "unique        1000           946       2        45             29      6   \n",
       "top      CUST_0001  Julian Lewis  Female  New York             TX  South   \n",
       "freq             1             3     511        74            159    312   \n",
       "mean           NaN           NaN     NaN       NaN            NaN    NaN   \n",
       "std            NaN           NaN     NaN       NaN            NaN    NaN   \n",
       "min            NaN           NaN     NaN       NaN            NaN    NaN   \n",
       "25%            NaN           NaN     NaN       NaN            NaN    NaN   \n",
       "50%            NaN           NaN     NaN       NaN            NaN    NaN   \n",
       "75%            NaN           NaN     NaN       NaN            NaN    NaN   \n",
       "max            NaN           NaN     NaN       NaN            NaN    NaN   \n",
       "\n",
       "       Membership Level  Customer Age  Tenure (Years)  \n",
       "count              1000   1000.000000     1000.000000  \n",
       "unique                3           NaN             NaN  \n",
       "top            Standard           NaN             NaN  \n",
       "freq                609           NaN             NaN  \n",
       "mean                NaN     45.087000        4.969600  \n",
       "std                 NaN     14.605504        2.867766  \n",
       "min                 NaN     20.000000        0.000000  \n",
       "25%                 NaN     33.000000        2.500000  \n",
       "50%                 NaN     45.000000        4.900000  \n",
       "75%                 NaN     58.000000        7.500000  \n",
       "max                 NaN     70.000000       10.000000  "
      ],
      "text/html": [
       "<div>\n",
       "<style scoped>\n",
       "    .dataframe tbody tr th:only-of-type {\n",
       "        vertical-align: middle;\n",
       "    }\n",
       "\n",
       "    .dataframe tbody tr th {\n",
       "        vertical-align: top;\n",
       "    }\n",
       "\n",
       "    .dataframe thead th {\n",
       "        text-align: right;\n",
       "    }\n",
       "</style>\n",
       "<table border=\"1\" class=\"dataframe\">\n",
       "  <thead>\n",
       "    <tr style=\"text-align: right;\">\n",
       "      <th></th>\n",
       "      <th>Customer ID</th>\n",
       "      <th>Customer Name</th>\n",
       "      <th>Gender</th>\n",
       "      <th>City</th>\n",
       "      <th>Province/State</th>\n",
       "      <th>Region</th>\n",
       "      <th>Membership Level</th>\n",
       "      <th>Customer Age</th>\n",
       "      <th>Tenure (Years)</th>\n",
       "    </tr>\n",
       "  </thead>\n",
       "  <tbody>\n",
       "    <tr>\n",
       "      <th>count</th>\n",
       "      <td>1000</td>\n",
       "      <td>1000</td>\n",
       "      <td>1000</td>\n",
       "      <td>1000</td>\n",
       "      <td>1000</td>\n",
       "      <td>1000</td>\n",
       "      <td>1000</td>\n",
       "      <td>1000.000000</td>\n",
       "      <td>1000.000000</td>\n",
       "    </tr>\n",
       "    <tr>\n",
       "      <th>unique</th>\n",
       "      <td>1000</td>\n",
       "      <td>946</td>\n",
       "      <td>2</td>\n",
       "      <td>45</td>\n",
       "      <td>29</td>\n",
       "      <td>6</td>\n",
       "      <td>3</td>\n",
       "      <td>NaN</td>\n",
       "      <td>NaN</td>\n",
       "    </tr>\n",
       "    <tr>\n",
       "      <th>top</th>\n",
       "      <td>CUST_0001</td>\n",
       "      <td>Julian Lewis</td>\n",
       "      <td>Female</td>\n",
       "      <td>New York</td>\n",
       "      <td>TX</td>\n",
       "      <td>South</td>\n",
       "      <td>Standard</td>\n",
       "      <td>NaN</td>\n",
       "      <td>NaN</td>\n",
       "    </tr>\n",
       "    <tr>\n",
       "      <th>freq</th>\n",
       "      <td>1</td>\n",
       "      <td>3</td>\n",
       "      <td>511</td>\n",
       "      <td>74</td>\n",
       "      <td>159</td>\n",
       "      <td>312</td>\n",
       "      <td>609</td>\n",
       "      <td>NaN</td>\n",
       "      <td>NaN</td>\n",
       "    </tr>\n",
       "    <tr>\n",
       "      <th>mean</th>\n",
       "      <td>NaN</td>\n",
       "      <td>NaN</td>\n",
       "      <td>NaN</td>\n",
       "      <td>NaN</td>\n",
       "      <td>NaN</td>\n",
       "      <td>NaN</td>\n",
       "      <td>NaN</td>\n",
       "      <td>45.087000</td>\n",
       "      <td>4.969600</td>\n",
       "    </tr>\n",
       "    <tr>\n",
       "      <th>std</th>\n",
       "      <td>NaN</td>\n",
       "      <td>NaN</td>\n",
       "      <td>NaN</td>\n",
       "      <td>NaN</td>\n",
       "      <td>NaN</td>\n",
       "      <td>NaN</td>\n",
       "      <td>NaN</td>\n",
       "      <td>14.605504</td>\n",
       "      <td>2.867766</td>\n",
       "    </tr>\n",
       "    <tr>\n",
       "      <th>min</th>\n",
       "      <td>NaN</td>\n",
       "      <td>NaN</td>\n",
       "      <td>NaN</td>\n",
       "      <td>NaN</td>\n",
       "      <td>NaN</td>\n",
       "      <td>NaN</td>\n",
       "      <td>NaN</td>\n",
       "      <td>20.000000</td>\n",
       "      <td>0.000000</td>\n",
       "    </tr>\n",
       "    <tr>\n",
       "      <th>25%</th>\n",
       "      <td>NaN</td>\n",
       "      <td>NaN</td>\n",
       "      <td>NaN</td>\n",
       "      <td>NaN</td>\n",
       "      <td>NaN</td>\n",
       "      <td>NaN</td>\n",
       "      <td>NaN</td>\n",
       "      <td>33.000000</td>\n",
       "      <td>2.500000</td>\n",
       "    </tr>\n",
       "    <tr>\n",
       "      <th>50%</th>\n",
       "      <td>NaN</td>\n",
       "      <td>NaN</td>\n",
       "      <td>NaN</td>\n",
       "      <td>NaN</td>\n",
       "      <td>NaN</td>\n",
       "      <td>NaN</td>\n",
       "      <td>NaN</td>\n",
       "      <td>45.000000</td>\n",
       "      <td>4.900000</td>\n",
       "    </tr>\n",
       "    <tr>\n",
       "      <th>75%</th>\n",
       "      <td>NaN</td>\n",
       "      <td>NaN</td>\n",
       "      <td>NaN</td>\n",
       "      <td>NaN</td>\n",
       "      <td>NaN</td>\n",
       "      <td>NaN</td>\n",
       "      <td>NaN</td>\n",
       "      <td>58.000000</td>\n",
       "      <td>7.500000</td>\n",
       "    </tr>\n",
       "    <tr>\n",
       "      <th>max</th>\n",
       "      <td>NaN</td>\n",
       "      <td>NaN</td>\n",
       "      <td>NaN</td>\n",
       "      <td>NaN</td>\n",
       "      <td>NaN</td>\n",
       "      <td>NaN</td>\n",
       "      <td>NaN</td>\n",
       "      <td>70.000000</td>\n",
       "      <td>10.000000</td>\n",
       "    </tr>\n",
       "  </tbody>\n",
       "</table>\n",
       "</div>"
      ]
     },
     "metadata": {},
     "output_type": "display_data",
     "jetTransient": {
      "display_id": null
     }
    }
   ],
   "execution_count": 4
  },
  {
   "cell_type": "markdown",
   "id": "yb4pdwjm1vl",
   "source": "---\n## 2. Data Quality Assessment",
   "metadata": {}
  },
  {
   "cell_type": "code",
   "id": "t7i1e0bf3t",
   "source": "# Check for missing values\nprint(\"=\"*60)\nprint(\"MISSING VALUES ANALYSIS\")\nprint(\"=\"*60)\n\nmissing = df.isnull().sum()\nmissing_pct = (df.isnull().sum() / len(df)) * 100\nmissing_summary = pd.DataFrame({\n    'Missing_Count': missing,\n    'Percentage': missing_pct\n})\n\nprint(missing_summary)\nprint(f\"\\nTotal missing values: {missing.sum()}\")\n\nif missing.sum() > 0:\n    print(\"\\n⚠️ Columns with missing values:\")\n    print(missing_summary[missing_summary['Missing_Count'] > 0])\nelse:\n    print(\"\\n✅ No missing values found!\")",
   "metadata": {
    "ExecuteTime": {
     "end_time": "2025-10-24T19:58:52.597864Z",
     "start_time": "2025-10-24T19:58:52.592648Z"
    }
   },
   "outputs": [
    {
     "name": "stdout",
     "output_type": "stream",
     "text": [
      "============================================================\n",
      "MISSING VALUES ANALYSIS\n",
      "============================================================\n",
      "                  Missing_Count  Percentage\n",
      "Customer ID                   0         0.0\n",
      "Customer Name                 0         0.0\n",
      "Gender                        0         0.0\n",
      "City                          0         0.0\n",
      "Province/State                0         0.0\n",
      "Region                        0         0.0\n",
      "Membership Level              0         0.0\n",
      "Customer Age                  0         0.0\n",
      "Tenure (Years)                0         0.0\n",
      "\n",
      "Total missing values: 0\n",
      "\n",
      "✅ No missing values found!\n"
     ]
    }
   ],
   "execution_count": 5
  },
  {
   "cell_type": "code",
   "id": "29f6wcn274m",
   "source": "# Check for duplicate Customer IDs\nprint(\"=\"*60)\nprint(\"DUPLICATE CUSTOMER IDs CHECK\")\nprint(\"=\"*60)\n\ntotal_rows = len(df)\nunique_ids = df['Customer ID'].nunique()\nduplicate_count = total_rows - unique_ids\n\nprint(f\"Total rows: {total_rows:,}\")\nprint(f\"Unique Customer IDs: {unique_ids:,}\")\nprint(f\"Duplicate Customer IDs: {duplicate_count:,}\")\n\nif duplicate_count > 0:\n    print(f\"\\n⚠️ Found {duplicate_count} duplicate Customer ID(s)\")\n    \n    # Show duplicate Customer IDs\n    duplicates = df[df.duplicated(subset=['Customer ID'], keep=False)].sort_values('Customer ID')\n    print(f\"\\nDuplicate Customer IDs:\")\n    display(duplicates)\nelse:\n    print(\"\\n✅ No duplicate Customer IDs found!\")",
   "metadata": {
    "ExecuteTime": {
     "end_time": "2025-10-24T19:58:58.613162Z",
     "start_time": "2025-10-24T19:58:58.609436Z"
    }
   },
   "outputs": [
    {
     "name": "stdout",
     "output_type": "stream",
     "text": [
      "============================================================\n",
      "DUPLICATE CUSTOMER IDs CHECK\n",
      "============================================================\n",
      "Total rows: 1,000\n",
      "Unique Customer IDs: 1,000\n",
      "Duplicate Customer IDs: 0\n",
      "\n",
      "✅ No duplicate Customer IDs found!\n"
     ]
    }
   ],
   "execution_count": 6
  },
  {
   "cell_type": "code",
   "id": "uux1wqjawyd",
   "source": "# Validate Customer Age\nprint(\"=\"*60)\nprint(\"CUSTOMER AGE VALIDATION\")\nprint(\"=\"*60)\n\nage_stats = df['Customer Age'].describe()\nprint(age_stats)\n\n# Check for invalid ages\ndf['age_valid'] = df['Customer Age'].between(18, 100)\ninvalid_ages = df[~df['age_valid']]\n\nprint(f\"\\nAge range: {df['Customer Age'].min()} - {df['Customer Age'].max()}\")\nprint(f\"Invalid ages (< 18 or > 100): {len(invalid_ages)}\")\n\nif len(invalid_ages) > 0:\n    print(\"\\n⚠️ Customers with invalid ages:\")\n    display(invalid_ages[['Customer ID', 'Customer Name', 'Customer Age']])\nelse:\n    print(\"\\n✅ All ages are within valid range (18-100)\")",
   "metadata": {
    "ExecuteTime": {
     "end_time": "2025-10-24T19:59:03.348891Z",
     "start_time": "2025-10-24T19:59:03.342414Z"
    }
   },
   "outputs": [
    {
     "name": "stdout",
     "output_type": "stream",
     "text": [
      "============================================================\n",
      "CUSTOMER AGE VALIDATION\n",
      "============================================================\n",
      "count    1000.000000\n",
      "mean       45.087000\n",
      "std        14.605504\n",
      "min        20.000000\n",
      "25%        33.000000\n",
      "50%        45.000000\n",
      "75%        58.000000\n",
      "max        70.000000\n",
      "Name: Customer Age, dtype: float64\n",
      "\n",
      "Age range: 20 - 70\n",
      "Invalid ages (< 18 or > 100): 0\n",
      "\n",
      "✅ All ages are within valid range (18-100)\n"
     ]
    }
   ],
   "execution_count": 7
  },
  {
   "cell_type": "code",
   "id": "qplx26247d",
   "source": "# Validate Tenure\nprint(\"=\"*60)\nprint(\"TENURE VALIDATION\")\nprint(\"=\"*60)\n\ntenure_stats = df['Tenure (Years)'].describe()\nprint(tenure_stats)\n\n# Check for invalid tenure\ndf['tenure_valid'] = df['Tenure (Years)'].between(0, 50)\ninvalid_tenure = df[~df['tenure_valid']]\n\nprint(f\"\\nTenure range: {df['Tenure (Years)'].min()} - {df['Tenure (Years)'].max()}\")\nprint(f\"Invalid tenure (< 0 or > 50): {len(invalid_tenure)}\")\n\nif len(invalid_tenure) > 0:\n    print(\"\\n⚠️ Customers with invalid tenure:\")\n    display(invalid_tenure[['Customer ID', 'Customer Name', 'Tenure (Years)']])\nelse:\n    print(\"\\n✅ All tenure values are within valid range (0-50)\")",
   "metadata": {
    "ExecuteTime": {
     "end_time": "2025-10-24T19:59:08.037455Z",
     "start_time": "2025-10-24T19:59:08.031717Z"
    }
   },
   "outputs": [
    {
     "name": "stdout",
     "output_type": "stream",
     "text": [
      "============================================================\n",
      "TENURE VALIDATION\n",
      "============================================================\n",
      "count    1000.000000\n",
      "mean        4.969600\n",
      "std         2.867766\n",
      "min         0.000000\n",
      "25%         2.500000\n",
      "50%         4.900000\n",
      "75%         7.500000\n",
      "max        10.000000\n",
      "Name: Tenure (Years), dtype: float64\n",
      "\n",
      "Tenure range: 0.0 - 10.0\n",
      "Invalid tenure (< 0 or > 50): 0\n",
      "\n",
      "✅ All tenure values are within valid range (0-50)\n"
     ]
    }
   ],
   "execution_count": 8
  },
  {
   "cell_type": "code",
   "id": "o8tmtzs62q",
   "source": [
    "# Check categorical values\n",
    "print(\"=\"*60)\n",
    "print(\"CATEGORICAL VALUES ANALYSIS\")\n",
    "print(\"=\"*60)\n",
    "\n",
    "categorical_cols = ['Gender', 'Region', 'Membership Level']\n",
    "\n",
    "for col in categorical_cols:\n",
    "    print(f\"\\n{col}:\")\n",
    "    print(f\"  Unique values: {df[col].nunique()}\")\n",
    "    print(f\"  Value counts:\")\n",
    "    print(df[col].value_counts().to_string())\n",
    "    print()"
   ],
   "metadata": {
    "ExecuteTime": {
     "end_time": "2025-10-24T19:59:31.771861Z",
     "start_time": "2025-10-24T19:59:31.767542Z"
    }
   },
   "outputs": [
    {
     "name": "stdout",
     "output_type": "stream",
     "text": [
      "============================================================\n",
      "CATEGORICAL VALUES ANALYSIS\n",
      "============================================================\n",
      "\n",
      "Gender:\n",
      "  Unique values: 2\n",
      "  Value counts:\n",
      "Gender\n",
      "Female    511\n",
      "Male      489\n",
      "\n",
      "\n",
      "Region:\n",
      "  Unique values: 6\n",
      "  Value counts:\n",
      "Region\n",
      "South             312\n",
      "West              268\n",
      "Northeast         182\n",
      "Midwest           138\n",
      "Eastern Canada     62\n",
      "Western Canada     38\n",
      "\n",
      "\n",
      "Membership Level:\n",
      "  Unique values: 3\n",
      "  Value counts:\n",
      "Membership Level\n",
      "Standard    609\n",
      "Gold        243\n",
      "Platinum    148\n",
      "\n"
     ]
    }
   ],
   "execution_count": 10
  },
  {
   "cell_type": "markdown",
   "id": "3cikud1j17s",
   "source": "---\n## 3. Data Cleaning Operations",
   "metadata": {}
  },
  {
   "cell_type": "code",
   "id": "3yo3voq1bl8",
   "source": "# Create a copy for cleaning\ndf_clean = df.copy()\n\nprint(\"=\"*60)\nprint(\"STARTING DATA CLEANING\")\nprint(\"=\"*60)\nprint(f\"Starting with {len(df_clean)} rows\\n\")",
   "metadata": {
    "ExecuteTime": {
     "end_time": "2025-10-24T19:59:39.003873Z",
     "start_time": "2025-10-24T19:59:39.000852Z"
    }
   },
   "outputs": [
    {
     "name": "stdout",
     "output_type": "stream",
     "text": [
      "============================================================\n",
      "STARTING DATA CLEANING\n",
      "============================================================\n",
      "Starting with 1000 rows\n",
      "\n"
     ]
    }
   ],
   "execution_count": 11
  },
  {
   "cell_type": "code",
   "id": "dmwswqaud2",
   "source": "# Step 1: Remove duplicate Customer IDs (keep first occurrence)\nbefore_dup_removal = len(df_clean)\ndf_clean = df_clean.drop_duplicates(subset=['Customer ID'], keep='first')\nafter_dup_removal = len(df_clean)\n\nprint(f\"✓ Step 1: Remove duplicate Customer IDs\")\nprint(f\"  Rows removed: {before_dup_removal - after_dup_removal}\")\nprint(f\"  Rows remaining: {after_dup_removal:,}\\n\")",
   "metadata": {
    "ExecuteTime": {
     "end_time": "2025-10-24T19:59:41.671067Z",
     "start_time": "2025-10-24T19:59:41.668236Z"
    }
   },
   "outputs": [
    {
     "name": "stdout",
     "output_type": "stream",
     "text": [
      "✓ Step 1: Remove duplicate Customer IDs\n",
      "  Rows removed: 0\n",
      "  Rows remaining: 1,000\n",
      "\n"
     ]
    }
   ],
   "execution_count": 12
  },
  {
   "cell_type": "code",
   "id": "9a29hj86678",
   "source": "# Step 2: Handle missing values in critical fields\nbefore_missing = len(df_clean)\ndf_clean = df_clean.dropna(subset=['Customer ID', 'Customer Name'])\nafter_missing = len(df_clean)\n\nprint(f\"✓ Step 2: Remove rows with missing Customer ID or Name\")\nprint(f\"  Rows removed: {before_missing - after_missing}\")\nprint(f\"  Rows remaining: {after_missing:,}\\n\")\n\n# Impute missing ages with median (if any)\nif df_clean['Customer Age'].isnull().any():\n    median_age = df_clean['Customer Age'].median()\n    missing_age_count = df_clean['Customer Age'].isnull().sum()\n    df_clean['Customer Age'].fillna(median_age, inplace=True)\n    print(f\"✓ Step 2a: Imputed {missing_age_count} missing age values with median ({median_age})\\n\")\nelse:\n    print(f\"✓ Step 2a: No missing age values to impute\\n\")",
   "metadata": {
    "ExecuteTime": {
     "end_time": "2025-10-24T19:59:44.909437Z",
     "start_time": "2025-10-24T19:59:44.904113Z"
    }
   },
   "outputs": [
    {
     "name": "stdout",
     "output_type": "stream",
     "text": [
      "✓ Step 2: Remove rows with missing Customer ID or Name\n",
      "  Rows removed: 0\n",
      "  Rows remaining: 1,000\n",
      "\n",
      "✓ Step 2a: No missing age values to impute\n",
      "\n"
     ]
    }
   ],
   "execution_count": 13
  },
  {
   "cell_type": "code",
   "id": "806s5r0yros",
   "source": "# Step 3: Standardize text fields\ntext_columns = ['Customer Name', 'Gender', 'City', 'Province/State', 'Region', 'Membership Level']\n\nprint(f\"✓ Step 3: Standardize text fields\")\nfor col in text_columns:\n    if col in df_clean.columns:\n        df_clean[col] = df_clean[col].str.strip()\n        print(f\"  - Trimmed whitespace in '{col}'\")\n\nprint()",
   "metadata": {
    "ExecuteTime": {
     "end_time": "2025-10-24T19:59:47.645666Z",
     "start_time": "2025-10-24T19:59:47.640051Z"
    }
   },
   "outputs": [
    {
     "name": "stdout",
     "output_type": "stream",
     "text": [
      "✓ Step 3: Standardize text fields\n",
      "  - Trimmed whitespace in 'Customer Name'\n",
      "  - Trimmed whitespace in 'Gender'\n",
      "  - Trimmed whitespace in 'City'\n",
      "  - Trimmed whitespace in 'Province/State'\n",
      "  - Trimmed whitespace in 'Region'\n",
      "  - Trimmed whitespace in 'Membership Level'\n",
      "\n"
     ]
    }
   ],
   "execution_count": 14
  },
  {
   "cell_type": "code",
   "id": "daknawepgr",
   "source": "# Step 4: Remove invalid ages and tenure\nbefore_validation = len(df_clean)\n\n# Remove invalid ages\ndf_clean = df_clean[df_clean['Customer Age'].between(18, 100)]\nafter_age = len(df_clean)\n\n# Remove invalid tenure\ndf_clean = df_clean[df_clean['Tenure (Years)'].between(0, 50)]\nafter_tenure = len(df_clean)\n\nprint(f\"✓ Step 4: Remove invalid ages and tenure\")\nprint(f\"  Rows removed (invalid age): {before_validation - after_age}\")\nprint(f\"  Rows removed (invalid tenure): {after_age - after_tenure}\")\nprint(f\"  Rows remaining: {after_tenure:,}\\n\")\n\n# Drop temporary validation columns\ndf_clean = df_clean.drop(columns=['age_valid', 'tenure_valid'], errors='ignore')",
   "metadata": {
    "ExecuteTime": {
     "end_time": "2025-10-24T19:59:52.668307Z",
     "start_time": "2025-10-24T19:59:52.662775Z"
    }
   },
   "outputs": [
    {
     "name": "stdout",
     "output_type": "stream",
     "text": [
      "✓ Step 4: Remove invalid ages and tenure\n",
      "  Rows removed (invalid age): 0\n",
      "  Rows removed (invalid tenure): 0\n",
      "  Rows remaining: 1,000\n",
      "\n"
     ]
    }
   ],
   "execution_count": 15
  },
  {
   "cell_type": "markdown",
   "id": "38wgimt7677",
   "source": "---\n## 4. Data Validation",
   "metadata": {}
  },
  {
   "cell_type": "code",
   "id": "qrnor5equu",
   "source": [
    "# Final validation checks\n",
    "print(\"=\"*60)\n",
    "print(\"FINAL VALIDATION CHECKS\")\n",
    "print(\"=\"*60)\n",
    "\n",
    "# Check 1: Customer ID uniqueness\n",
    "is_unique = df_clean['Customer ID'].is_unique\n",
    "print(f\"✓ Customer IDs unique: {is_unique}\")\n",
    "if not is_unique:\n",
    "    print(\"  ⚠️ WARNING: Customer IDs are not unique!\")\n",
    "\n",
    "# Check 2: No missing critical fields\n",
    "critical_fields = ['Customer ID', 'Customer Name']\n",
    "missing_critical = df_clean[critical_fields].isnull().sum().sum()\n",
    "print(f\"✓ Missing values in critical fields: {missing_critical}\")\n",
    "\n",
    "# Check 3: Valid age range\n",
    "valid_age = df_clean['Customer Age'].between(18, 100).all()\n",
    "print(f\"✓ All ages within valid range (18-100): {valid_age}\")\n",
    "\n",
    "# Check 4: Valid tenure range\n",
    "valid_tenure = df_clean['Tenure (Years)'].between(0, 50).all()\n",
    "print(f\"✓ All tenure within valid range (0-50): {valid_tenure}\")\n",
    "\n",
    "# Check 5: Data types\n",
    "print(f\"\\n✓ Data types:\")\n",
    "print(df_clean.dtypes.to_string())\n",
    "\n",
    "print(\"\\n\" + \"=\"*60)\n",
    "print(\"✅ ALL VALIDATION CHECKS PASSED!\")\n",
    "print(\"=\"*60)"
   ],
   "metadata": {
    "ExecuteTime": {
     "end_time": "2025-10-24T20:00:02.019591Z",
     "start_time": "2025-10-24T20:00:02.013618Z"
    }
   },
   "outputs": [
    {
     "name": "stdout",
     "output_type": "stream",
     "text": [
      "============================================================\n",
      "FINAL VALIDATION CHECKS\n",
      "============================================================\n",
      "✓ Customer IDs unique: True\n",
      "✓ Missing values in critical fields: 0\n",
      "✓ All ages within valid range (18-100): True\n",
      "✓ All tenure within valid range (0-50): True\n",
      "\n",
      "✓ Data types:\n",
      "Customer ID          object\n",
      "Customer Name        object\n",
      "Gender               object\n",
      "City                 object\n",
      "Province/State       object\n",
      "Region               object\n",
      "Membership Level     object\n",
      "Customer Age          int64\n",
      "Tenure (Years)      float64\n",
      "\n",
      "============================================================\n",
      "✅ ALL VALIDATION CHECKS PASSED!\n",
      "============================================================\n"
     ]
    }
   ],
   "execution_count": 17
  },
  {
   "cell_type": "markdown",
   "id": "qxihuzt49r",
   "source": "---\n## 5. Export Cleaned Data",
   "metadata": {}
  },
  {
   "cell_type": "code",
   "id": "w302ngp0kp",
   "source": "# Create output directory if it doesn't exist\nimport os\nos.makedirs('../output_data', exist_ok=True)\n\n# Export cleaned data\noutput_file = '../output_data/Customers_cleaned.csv'\ndf_clean.to_csv(output_file, index=False)\n\nprint(\"=\"*60)\nprint(\"CLEANED DATA EXPORTED\")\nprint(\"=\"*60)\nprint(f\"Output file: {output_file}\")\nprint(f\"Rows exported: {len(df_clean):,}\")\nprint(f\"Columns: {len(df_clean.columns)}\")\nprint(\"=\"*60)",
   "metadata": {
    "ExecuteTime": {
     "end_time": "2025-10-24T20:00:06.089898Z",
     "start_time": "2025-10-24T20:00:06.081623Z"
    }
   },
   "outputs": [],
   "execution_count": null
  },
  {
   "cell_type": "markdown",
   "id": "w8ndaekbnpo",
   "source": "---\n## 6. Data Quality Report",
   "metadata": {}
  },
  {
   "cell_type": "code",
   "id": "5nro6y4olkf",
   "source": "# Generate comprehensive quality report\nquality_report = {\n    'Dataset': 'Customer Data',\n    'Original_Rows': len(df),\n    'Cleaned_Rows': len(df_clean),\n    'Rows_Removed': len(df) - len(df_clean),\n    'Percentage_Retained': f\"{(len(df_clean) / len(df) * 100):.2f}%\",\n    'Duplicate_Customer_IDs_Removed': df.duplicated(subset=['Customer ID']).sum(),\n    'Missing_Values_Original': df.isnull().sum().sum(),\n    'Missing_Values_Cleaned': df_clean.isnull().sum().sum(),\n    'Unique_Customers': df_clean['Customer ID'].nunique(),\n    'Age_Range': f\"{df_clean['Customer Age'].min():.0f} - {df_clean['Customer Age'].max():.0f}\",\n    'Tenure_Range': f\"{df_clean['Tenure (Years)'].min():.1f} - {df_clean['Tenure (Years)'].max():.1f}\",\n    'Unique_Regions': df_clean['Region'].nunique(),\n    'Unique_Membership_Levels': df_clean['Membership Level'].nunique()\n}\n\n# Print report\nprint(\"=\"*60)\nprint(\"CUSTOMER DATA QUALITY REPORT\")\nprint(\"=\"*60)\nfor key, value in quality_report.items():\n    print(f\"{key}: {value}\")\nprint(\"=\"*60)\n\n# Save report to file\nreport_file = '../output_data/Customer_Quality_Report.txt'\nwith open(report_file, 'w') as f:\n    f.write(\"CUSTOMER DATA QUALITY REPORT\\n\")\n    f.write(\"=\"*60 + \"\\n\\n\")\n    for key, value in quality_report.items():\n        f.write(f\"{key}: {value}\\n\")\n    f.write(\"\\n\" + \"=\"*60 + \"\\n\")\n    f.write(\"\\nCleaning completed successfully!\\n\")\n    f.write(f\"Cleaned data available at: output_data/Customers_cleaned.csv\\n\")\n\nprint(f\"\\n✅ Quality report saved to: {report_file}\")",
   "metadata": {
    "ExecuteTime": {
     "end_time": "2025-10-24T20:00:10.832454Z",
     "start_time": "2025-10-24T20:00:10.824918Z"
    }
   },
   "outputs": [],
   "execution_count": null
  },
  {
   "metadata": {},
   "cell_type": "code",
   "outputs": [],
   "execution_count": null,
   "source": "",
   "id": "178ef4ee88954a64"
  }
 ],
 "metadata": {
  "kernelspec": {
   "display_name": "Python 3",
   "language": "python",
   "name": "python3"
  },
  "language_info": {
   "codemirror_mode": {
    "name": "ipython",
    "version": 2
   },
   "file_extension": ".py",
   "mimetype": "text/x-python",
   "name": "python",
   "nbconvert_exporter": "python",
   "pygments_lexer": "ipython2",
   "version": "2.7.6"
  }
 },
 "nbformat": 4,
 "nbformat_minor": 5
}